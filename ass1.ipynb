{
 "cells": [
  {
   "cell_type": "code",
   "execution_count": 1,
   "id": "364fe094",
   "metadata": {},
   "outputs": [
    {
     "name": "stdout",
     "output_type": "stream",
     "text": [
      "Enter first number: 4\n",
      "Enter second number: 2\n",
      "4\n"
     ]
    }
   ],
   "source": [
    "a = int(input(\"Enter first number: \"))\n",
    "b = int(input(\"Enter second number: \"))\n",
    "c = max(a, b)\n",
    "print(c)\n"
   ]
  },
  {
   "cell_type": "code",
   "execution_count": 6,
   "id": "2038de8d",
   "metadata": {},
   "outputs": [
    {
     "name": "stdout",
     "output_type": "stream",
     "text": [
      "input number:5\n",
      "1\n",
      "2\n",
      "3\n",
      "4\n",
      "5\n"
     ]
    }
   ],
   "source": [
    "n=int(input('input number:'))\n",
    "for i in range(1,n+1):\n",
    "    print(i)"
   ]
  },
  {
   "cell_type": "code",
   "execution_count": 14,
   "id": "65f8fd27",
   "metadata": {},
   "outputs": [
    {
     "name": "stdout",
     "output_type": "stream",
     "text": [
      "0\n",
      "The number is zero\n"
     ]
    }
   ],
   "source": [
    "n=int(input())\n",
    "if(n>0):\n",
    "    print('The number is Positive')\n",
    "elif(n<0):\n",
    "    print('The number is negative')\n",
    "elif(n==0):\n",
    "    print('The number is zero')"
   ]
  },
  {
   "cell_type": "code",
   "execution_count": 29,
   "id": "01433edc",
   "metadata": {},
   "outputs": [
    {
     "name": "stdout",
     "output_type": "stream",
     "text": [
      "4\n",
      "24\n"
     ]
    }
   ],
   "source": [
    "n = int(input())\n",
    "fact = 1\n",
    "for i in range(1, n + 1):\n",
    "    fact =fact*i\n",
    "print(factorial)"
   ]
  },
  {
   "cell_type": "code",
   "execution_count": 57,
   "id": "61058e9a",
   "metadata": {},
   "outputs": [
    {
     "name": "stdout",
     "output_type": "stream",
     "text": [
      "3\n"
     ]
    }
   ],
   "source": [
    "n = '1233321'\n",
    "max_count = 0\n",
    "max_digit = ''\n",
    "\n",
    "for i in n:  \n",
    "    count = n.count(i)  \n",
    "    if count > max_count:  \n",
    "        max_count = count\n",
    "        max_digit = i\n",
    "\n",
    "print(max_digit)"
   ]
  },
  {
   "cell_type": "code",
   "execution_count": 58,
   "id": "a342953d",
   "metadata": {},
   "outputs": [
    {
     "name": "stdout",
     "output_type": "stream",
     "text": [
      "8\n",
      "12\n",
      "4\n"
     ]
    }
   ],
   "source": [
    "import math\n",
    "\n",
    "a = int(input())\n",
    "b = int(input())\n",
    "\n",
    "gcd = math.gcd(a, b)\n",
    "print(gcd)"
   ]
  },
  {
   "cell_type": "code",
   "execution_count": 61,
   "id": "5c27ef1b",
   "metadata": {},
   "outputs": [
    {
     "name": "stdout",
     "output_type": "stream",
     "text": [
      "tseuqia\n"
     ]
    }
   ],
   "source": [
    "s = 'aiquest'\n",
    "re_s = s[::-1]  \n",
    "print(re_s)"
   ]
  },
  {
   "cell_type": "code",
   "execution_count": 62,
   "id": "8598f836",
   "metadata": {},
   "outputs": [
    {
     "name": "stdout",
     "output_type": "stream",
     "text": [
      "123\n",
      "123 is not an Armstrong Number\n"
     ]
    }
   ],
   "source": [
    "def is_armstrong(num):\n",
    "    num_str = str(num)  \n",
    "    num_digits = len(num_str)  \n",
    "    sum_of_powers = sum(int(digit) ** num_digits for digit in num_str)  \n",
    "    return sum_of_powers == num  \n",
    "\n",
    "number = int(input())\n",
    "if is_armstrong(number):\n",
    "    print(f\"{number} is an Armstrong Number\")\n",
    "else:\n",
    "    print(f\"{number} is not an Armstrong Number\")\n"
   ]
  },
  {
   "cell_type": "code",
   "execution_count": 63,
   "id": "83f7b0e7",
   "metadata": {},
   "outputs": [
    {
     "name": "stdout",
     "output_type": "stream",
     "text": [
      "4\n",
      "   *\n",
      "  ***\n",
      " *****\n",
      "*******\n"
     ]
    }
   ],
   "source": [
    "def str_fun(n):\n",
    "    for i in range(1, n + 1):\n",
    "        print(\" \" * (n - i), end=\"\")\n",
    "        print(\"*\" * (2 * i - 1))\n",
    "\n",
    "\n",
    "n = int(input())\n",
    "str_fun(n)\n"
   ]
  },
  {
   "cell_type": "code",
   "execution_count": null,
   "id": "99437a3a",
   "metadata": {},
   "outputs": [],
   "source": []
  }
 ],
 "metadata": {
  "kernelspec": {
   "display_name": "Python 3 (ipykernel)",
   "language": "python",
   "name": "python3"
  },
  "language_info": {
   "codemirror_mode": {
    "name": "ipython",
    "version": 3
   },
   "file_extension": ".py",
   "mimetype": "text/x-python",
   "name": "python",
   "nbconvert_exporter": "python",
   "pygments_lexer": "ipython3",
   "version": "3.9.7"
  }
 },
 "nbformat": 4,
 "nbformat_minor": 5
}
